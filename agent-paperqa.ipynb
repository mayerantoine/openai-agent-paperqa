{
 "cells": [
  {
   "cell_type": "markdown",
   "id": "fdb66405",
   "metadata": {},
   "source": [
    "## Search-gather-response, experimenting AI Agentic RAG for public health research\n",
    "This notebook implements an agentic RAG system for public health research.  \n",
    "Mayer Antoine"
   ]
  },
  {
   "cell_type": "markdown",
   "id": "06c0cb4e",
   "metadata": {},
   "source": [
    "In this project, we reproduce an agentic AI for retrieval augmented generation (RAG) as implemented in the paper \"L'ala, Jakub et al. 'PaperQA: Retrieval-Augmented Generative Agent for Scientific Research.' ArXiv abs/2312.07559 (2023): n. pag.\" using OpenAI's Agent SDK. The authors developed PaperQA, an agent that performs information retrieval across full-text scientific articles, assesses the relevance of sources and passages, and uses RAG to provide answers. This follows a **search-gather-response** framework.\n",
    "\n"
   ]
  },
  {
   "cell_type": "markdown",
   "id": "03637985",
   "metadata": {},
   "source": [
    "Our implementation uses ChromaDB vector store and LangChain. While we don't exactly follow the paper's implementation (as they developed and used an in-house AI framework), we demonstrate their core principles. This notebook shows indexing and simple queries using the agent implemented in rag_agent.py"
   ]
  },
  {
   "cell_type": "code",
   "execution_count": 1,
   "id": "ce4344ae",
   "metadata": {},
   "outputs": [],
   "source": [
    "%load_ext autoreload\n",
    "%autoreload 2"
   ]
  },
  {
   "cell_type": "code",
   "execution_count": 2,
   "id": "7178b4fb",
   "metadata": {},
   "outputs": [],
   "source": [
    "import pandas as pd\n",
    "from sodapy import Socrata\n",
    "import pathlib\n",
    "from pathlib import Path\n",
    "from typing import List, Dict, Any, Optional, Union, Tuple\n",
    "from langchain_huggingface import HuggingFaceEmbeddings as lgHuggingFaceEmbeddings\n",
    "from rag_agent import  AgentConfig,AgenticRAG\n",
    "from loader import download_file,get_data_directory,extract_zip_files,load_html_files\n",
    "from vectorstore import VectorStorePaper"
   ]
  },
  {
   "cell_type": "markdown",
   "id": "c50dadfb",
   "metadata": {},
   "source": [
    "### Download the data\n",
    "Download CDC public health data (PCD 2004-2023) containing scientific articles."
   ]
  },
  {
   "cell_type": "code",
   "execution_count": 3,
   "id": "ebba74d1",
   "metadata": {},
   "outputs": [
    {
     "name": "stdout",
     "output_type": "stream",
     "text": [
      "No data.. donwloading\n"
     ]
    },
    {
     "name": "stderr",
     "output_type": "stream",
     "text": [
      "20979it [00:23, 910.59it/s]\n"
     ]
    }
   ],
   "source": [
    "\n",
    "_URL_PCD = \"https://data.cdc.gov/api/views/ut5n-bmc3/files/c0594869-ba74-4c26-bf54-b2dab3dff971?download=true&filename=pcd_2004-2023.zip\"\n",
    "HTML_ZIP_DIRECTORY=\"./cdc-corpus-data/zip\"\n",
    "\n",
    "if not Path(HTML_ZIP_DIRECTORY).exists():\n",
    "    print(\"No data.. donwloading\")\n",
    "    download_file(url=_URL_PCD,file_name=\"pcd.zip\")"
   ]
  },
  {
   "cell_type": "markdown",
   "id": "8dc6dff4",
   "metadata": {},
   "source": [
    "### Extract and Load HTML Files\n",
    "Extract ZIP files and load 2,914 HTML articles for processing"
   ]
  },
  {
   "cell_type": "code",
   "execution_count": 4,
   "id": "ca8bed22",
   "metadata": {},
   "outputs": [
    {
     "name": "stdout",
     "output_type": "stream",
     "text": [
      "Loaded 2914 HTML articles\n"
     ]
    }
   ],
   "source": [
    "data_dir = get_data_directory()\n",
    "\n",
    "extract_zip_files()\n",
    "target_dir = data_dir / \"html-outputs/pcd\"\n",
    "\n",
    "# If html files where downloaded and extracted - load them\n",
    "if target_dir.exists():\n",
    "    data_html = load_html_files()\n",
    "### Chuncking and Indexing HTML Files"
   ]
  },
  {
   "cell_type": "markdown",
   "id": "fc562d6c",
   "metadata": {},
   "source": [
    "### Create the Vector store with Chroma\n",
    "Initialize ChromaDB vector store with existing index containing 169,394 document chunks"
   ]
  },
  {
   "cell_type": "code",
   "execution_count": 5,
   "id": "wkt9r0mt8b",
   "metadata": {},
   "outputs": [],
   "source": [
    "# Configuration: Set to False to reuse existing index, True to recreate\n",
    "RECREATE_INDEX = False  # Change to True to force index recreation"
   ]
  },
  {
   "cell_type": "code",
   "execution_count": 6,
   "id": "23db52ca",
   "metadata": {},
   "outputs": [
    {
     "name": "stdout",
     "output_type": "stream",
     "text": [
      "Creating new index at ./cdc-corpus-data/chroma_db\n",
      "No existing index found\n"
     ]
    }
   ],
   "source": [
    "# Set up ChromaDB client\n",
    "CHROMA_PERSIST_DIRECTORY=\"./cdc-corpus-data/chroma_db\"\n",
    "vector_store = VectorStorePaper(html_articles=data_html,\n",
    "                 persist_directory=CHROMA_PERSIST_DIRECTORY,\n",
    "                 recreate_index=RECREATE_INDEX)\n",
    "\n",
    "# Display index status\n",
    "if vector_store.index_exists:\n",
    "    doc_count = vector_store.get_document_count()\n",
    "    print(f\"Index contains {doc_count} document chunks\")\n",
    "else:\n",
    "    print(\"No existing index found\")"
   ]
  },
  {
   "cell_type": "markdown",
   "id": "78c29865",
   "metadata": {},
   "source": [
    "### Chuncking the HTML Files\n",
    "Process HTML documents into smaller chunks for vector embedding (skipped if using existing index)."
   ]
  },
  {
   "cell_type": "code",
   "execution_count": 7,
   "id": "810bcd73",
   "metadata": {},
   "outputs": [
    {
     "name": "stdout",
     "output_type": "stream",
     "text": [
      "Chunking documents...\n",
      "Created 94310 document chunks\n",
      "CPU times: user 1min 59s, sys: 1.87 s, total: 2min 1s\n",
      "Wall time: 2min 4s\n"
     ]
    }
   ],
   "source": [
    "%%time\n",
    "# Only chunk documents if we need to recreate the index\n",
    "if vector_store.should_process_documents():\n",
    "    print(\"Chunking documents...\")\n",
    "    documents = vector_store.chunking()\n",
    "    print(f\"Created {len(documents)} document chunks\")\n",
    "else:\n",
    "    print(\"Skipping document chunking (using existing index)\")\n",
    "    documents = []"
   ]
  },
  {
   "cell_type": "markdown",
   "id": "f5936f91",
   "metadata": {},
   "source": [
    "### Indexing HTML Files in the  Vector Database\n",
    "Create and store vector embeddings for document chunks in ChromaDB (skipped if using existing index)"
   ]
  },
  {
   "cell_type": "code",
   "execution_count": 8,
   "id": "dc0b2f55",
   "metadata": {},
   "outputs": [
    {
     "name": "stdout",
     "output_type": "stream",
     "text": [
      "Indexing 94310 documents (this may take several minutes)...\n"
     ]
    },
    {
     "name": "stderr",
     "output_type": "stream",
     "text": [
      "Creating embeddings: 100%|██████████| 94310/94310 [12:55<00:00, 121.68doc/s]  "
     ]
    },
    {
     "name": "stdout",
     "output_type": "stream",
     "text": [
      "Indexing completed!\n",
      "CPU times: user 3min 38s, sys: 53.8 s, total: 4min 32s\n",
      "Wall time: 12min 55s\n"
     ]
    },
    {
     "name": "stderr",
     "output_type": "stream",
     "text": [
      "\n"
     ]
    }
   ],
   "source": [
    "%%time\n",
    "# Only index documents if we need to recreate the index\n",
    "if vector_store.should_process_documents():\n",
    "    print(f\"Indexing {len(documents)} documents (this may take several minutes)...\")\n",
    "    vector_store.index_document(documents)  # Using subset for demo\n",
    "    print(\"Indexing completed!\")\n",
    "else:\n",
    "    print(\"Skipping document indexing (using existing index)\")\n",
    "    print(\"Ready to perform searches!\")"
   ]
  },
  {
   "cell_type": "markdown",
   "id": "c30b6a56",
   "metadata": {},
   "source": [
    "### Creating and Configuring the Agent\n",
    "Configure the AgenticRAG agent with search parameters and relevance settings."
   ]
  },
  {
   "cell_type": "code",
   "execution_count": 22,
   "id": "aa9adfdf",
   "metadata": {},
   "outputs": [],
   "source": [
    "\n",
    "config = AgentConfig(\n",
    "        collection_filter='pcd',\n",
    "        relevance_cutoff=8,\n",
    "        search_k=10,\n",
    "        max_evidence_pieces=5,\n",
    "        max_search_attempts=3\n",
    "    )\n",
    "    \n",
    "    # Initialize agentic RAG\n",
    "agentic_rag = AgenticRAG(vector_store=vector_store,config=config)\n",
    "\n",
    " \n",
    "async def ask(config:AgentConfig,agent:AgenticRAG,question:str):\n",
    "\n",
    "    # Ask question\n",
    "    #question = \"Causes of sleep disorder\"\n",
    "    print(f\"Question: {question}\\n\")\n",
    "    answer = await agentic_rag.ask_question(question, max_turns=10)\n",
    "\n",
    "    return answer\n"
   ]
  },
  {
   "cell_type": "markdown",
   "id": "d3bbfe03",
   "metadata": {},
   "source": [
    "### Asking questions\n",
    "Demonstrate the agent answering a complex question about diabetes prevention in rural adolescents."
   ]
  },
  {
   "cell_type": "code",
   "execution_count": 23,
   "id": "25c5a189",
   "metadata": {},
   "outputs": [
    {
     "name": "stdout",
     "output_type": "stream",
     "text": [
      "Question: What are the most common methods used in diabetes prevention to support adolescents in rural areas in the US?\n",
      "\n",
      "🟢 [Search] Starting paper search for question:common methods used in diabetes prevention for adolescents in rural areas in the US\n",
      "🟢 [Search] Paper search returned 10 passages from papers\n",
      "🟢 [Status] Paper Count=10 | Relevant Papers=0 Current Evidence=0\n",
      "🟢 [Gather] Gathering evidence for question: common methods used in diabetes prevention for adolescents in rural areas in the US\n",
      "🟢 [Gather] Finished gathering evidence for question: common methods used in diabetes prevention for adolescents in rural areas in the US\n",
      "{'Paper': 10, 'Relevant': 5, 'Evidence': 5}\n"
     ]
    }
   ],
   "source": [
    "question = \"What are the most common methods used in diabetes prevention to support adolescents in rural areas in the US?\"\n",
    "answer = await ask(config=config,agent = agentic_rag, question=question)"
   ]
  },
  {
   "cell_type": "markdown",
   "id": "bb8ef0b1",
   "metadata": {},
   "source": [
    "### Display Final answer\n",
    "Show the final comprehensive answer generated by the agentic RAG system."
   ]
  },
  {
   "cell_type": "code",
   "execution_count": 24,
   "id": "ceb93bcf",
   "metadata": {},
   "outputs": [
    {
     "name": "stdout",
     "output_type": "stream",
     "text": [
      "\n",
      "Final Answer: Common methods used in diabetes prevention for adolescents in rural areas of the US include:\n",
      "\n",
      "1. **Lifestyle Change Programs**: The CDC's National Diabetes Prevention Program promotes structured interventions focusing on dietary modifications and increased physical activity, achieving a significant reduction in diabetes incidence (30% to 60%) among at-risk adolescents.\n",
      "\n",
      "2. **Community Engagement**: Programs like the Together On Diabetes trial emphasize creating local support systems, integrating family and community resources to enhance participation and sustainability.\n",
      "\n",
      "3. **School-Based Initiatives**: Tailored physical activity programs in schools, especially for underserved populations, improve physical fitness and potentially lower diabetes risk. For instance, interventions for American Indian youth have shown positive impacts on glucose levels and fitness, despite mixed results on BMI.\n",
      "\n",
      "4. **Pharmacy Collaborations**: Collaborating with pharmacies to extend access to diabetes prevention resources is effective, particularly in rural areas with limited healthcare facilities, facilitating education on diabetes management.\n",
      "\n",
      "5. **Nutritional Interventions**: Customizing nutrition programs to fit the unique cultural contexts of rural adolescents supports adherence and effectiveness, promoting healthy eating habits tailored to local needs.\n",
      "\n",
      "These strategies underscore the importance of localized, community-driven approaches that engage families and schools, enhancing the effectiveness of diabetes prevention efforts in rural areas.\n"
     ]
    }
   ],
   "source": [
    "print(f\"\\nFinal Answer: {answer}\")"
   ]
  },
  {
   "cell_type": "code",
   "execution_count": 20,
   "id": "e1b27211",
   "metadata": {},
   "outputs": [
    {
     "name": "stdout",
     "output_type": "stream",
     "text": [
      "all-MiniLM-L6-v2\n"
     ]
    }
   ],
   "source": [
    "import os\n",
    "from dotenv import load_dotenv\n",
    "load_dotenv(override=True)\n",
    "print(os.getenv('DEFAULT_EMBEDDING_MODEL'))"
   ]
  }
 ],
 "metadata": {
  "kernelspec": {
   "display_name": "openai-agent-paperqa (3.10.6)",
   "language": "python",
   "name": "python3"
  },
  "language_info": {
   "codemirror_mode": {
    "name": "ipython",
    "version": 3
   },
   "file_extension": ".py",
   "mimetype": "text/x-python",
   "name": "python",
   "nbconvert_exporter": "python",
   "pygments_lexer": "ipython3",
   "version": "3.10.6"
  }
 },
 "nbformat": 4,
 "nbformat_minor": 5
}
