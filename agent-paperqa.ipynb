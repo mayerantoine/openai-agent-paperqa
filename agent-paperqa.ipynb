{
 "cells": [
  {
   "cell_type": "markdown",
   "id": "fdb66405",
   "metadata": {},
   "source": [
    "## Search-gather-response, experimenting AI Agentic RAG for public health research\n",
    "This notebook implements an agentic RAG system for public health research.  \n",
    "Mayer Antoine"
   ]
  },
  {
   "cell_type": "markdown",
   "id": "06c0cb4e",
   "metadata": {},
   "source": [
    "In this project, we reproduce an agentic AI for retrieval augmented generation (RAG) as implemented in the paper \"L'ala, Jakub et al. 'PaperQA: Retrieval-Augmented Generative Agent for Scientific Research.' ArXiv abs/2312.07559 (2023): n. pag.\" using OpenAI's Agent SDK. The authors developed PaperQA, an agent that performs information retrieval across full-text scientific articles, assesses the relevance of sources and passages, and uses RAG to provide answers. This follows a **search-gather-response** framework.\n",
    "\n"
   ]
  },
  {
   "cell_type": "markdown",
   "id": "03637985",
   "metadata": {},
   "source": [
    "Our implementation uses ChromaDB vector store and LangChain. While we don't exactly follow the paper's implementation (as they developed and used an in-house AI framework), we demonstrate their core principles. This notebook shows indexing and simple queries using the agent implemented in rag_agent.py"
   ]
  },
  {
   "cell_type": "code",
   "execution_count": 5,
   "id": "ce4344ae",
   "metadata": {},
   "outputs": [
    {
     "name": "stdout",
     "output_type": "stream",
     "text": [
      "The autoreload extension is already loaded. To reload it, use:\n",
      "  %reload_ext autoreload\n"
     ]
    }
   ],
   "source": [
    "%load_ext autoreload\n",
    "%autoreload 2"
   ]
  },
  {
   "cell_type": "code",
   "execution_count": null,
   "id": "7178b4fb",
   "metadata": {},
   "outputs": [],
   "source": [
    "import pandas as pd\n",
    "from sodapy import Socrata\n",
    "import pathlib\n",
    "from pathlib import Path\n",
    "from typing import List, Dict, Any, Optional, Union, Tuple\n",
    "from langchain_huggingface import HuggingFaceEmbeddings as lgHuggingFaceEmbeddings\n",
    "from rag_agent import  AgentConfig,AgenticRAG\n",
    "from loader import download_file,get_data_directory,extract_zip_files,load_html_files\n",
    "from vectorstore import VectorStorePaper"
   ]
  },
  {
   "cell_type": "markdown",
   "id": "c50dadfb",
   "metadata": {},
   "source": [
    "### Download the data\n",
    "Download CDC public health data (PCD 2004-2023) containing scientific articles."
   ]
  },
  {
   "cell_type": "code",
   "execution_count": 6,
   "id": "ebba74d1",
   "metadata": {},
   "outputs": [],
   "source": [
    "\n",
    "_URL_PCD = \"https://data.cdc.gov/api/views/ut5n-bmc3/files/c0594869-ba74-4c26-bf54-b2dab3dff971?download=true&filename=pcd_2004-2023.zip\"\n",
    "HTML_ZIP_DIRECTORY=\"./cdc-corpus-data/zip\"\n",
    "\n",
    "if not Path(HTML_ZIP_DIRECTORY).exists():\n",
    "    print(\"No data.. donwloading\")\n",
    "    download_file(url=_URL_PCD,file_name=\"pcd.zip\")"
   ]
  },
  {
   "cell_type": "markdown",
   "id": "8dc6dff4",
   "metadata": {},
   "source": [
    "### Extract and Load HTML Files\n",
    "Extract ZIP files and load 2,914 HTML articles for processing"
   ]
  },
  {
   "cell_type": "code",
   "execution_count": null,
   "id": "ca8bed22",
   "metadata": {},
   "outputs": [
    {
     "name": "stdout",
     "output_type": "stream",
     "text": [
      "Loaded 2914 HTML articles\n"
     ]
    }
   ],
   "source": [
    "data_dir = get_data_directory()\n",
    "\n",
    "extract_zip_files()\n",
    "target_dir = data_dir / \"html-outputs/pcd\"\n",
    "\n",
    "# If html files where downloaded and extracted - load them\n",
    "if target_dir.exists():\n",
    "    data_html = load_html_files()\n",
    "### Chuncking and Indexing HTML Files"
   ]
  },
  {
   "cell_type": "markdown",
   "id": "fc562d6c",
   "metadata": {},
   "source": [
    "### Create the Vector store with Chroma\n",
    "Initialize ChromaDB vector store with existing index containing 169,394 document chunks"
   ]
  },
  {
   "cell_type": "code",
   "execution_count": 12,
   "id": "wkt9r0mt8b",
   "metadata": {},
   "outputs": [],
   "source": [
    "# Configuration: Set to False to reuse existing index, True to recreate\n",
    "RECREATE_INDEX = False  # Change to True to force index recreation"
   ]
  },
  {
   "cell_type": "code",
   "execution_count": null,
   "id": "23db52ca",
   "metadata": {},
   "outputs": [
    {
     "name": "stdout",
     "output_type": "stream",
     "text": [
      "Using existing index at ./cdc-corpus-data/chroma_db\n",
      "   Set recreate_index=True to force recreation\n",
      "Index contains 169394 document chunks\n"
     ]
    }
   ],
   "source": [
    "# Set up ChromaDB client\n",
    "CHROMA_PERSIST_DIRECTORY=\"./cdc-corpus-data/chroma_db\"\n",
    "vector_store = VectorStorePaper(html_articles=data_html,\n",
    "                 persist_directory=CHROMA_PERSIST_DIRECTORY,\n",
    "                 recreate_index=RECREATE_INDEX)\n",
    "\n",
    "# Display index status\n",
    "if vector_store.index_exists:\n",
    "    doc_count = vector_store.get_document_count()\n",
    "    print(f\"Index contains {doc_count} document chunks\")\n",
    "else:\n",
    "    print(\"No existing index found\")"
   ]
  },
  {
   "cell_type": "markdown",
   "id": "78c29865",
   "metadata": {},
   "source": [
    "### Chuncking the HTML Files\n",
    "Process HTML documents into smaller chunks for vector embedding (skipped if using existing index)."
   ]
  },
  {
   "cell_type": "code",
   "execution_count": 9,
   "id": "810bcd73",
   "metadata": {},
   "outputs": [
    {
     "name": "stdout",
     "output_type": "stream",
     "text": [
      "Skipping document chunking (using existing index)\n",
      "CPU times: user 118 μs, sys: 104 μs, total: 222 μs\n",
      "Wall time: 225 μs\n"
     ]
    }
   ],
   "source": [
    "%%time\n",
    "# Only chunk documents if we need to recreate the index\n",
    "if vector_store.should_process_documents():\n",
    "    print(\"Chunking documents...\")\n",
    "    documents = vector_store.chunking()\n",
    "    print(f\"Created {len(documents)} document chunks\")\n",
    "else:\n",
    "    print(\"Skipping document chunking (using existing index)\")\n",
    "    documents = []"
   ]
  },
  {
   "cell_type": "markdown",
   "id": "f5936f91",
   "metadata": {},
   "source": [
    "### Indexing HTML Files in the  Vector Database\n",
    "Create and store vector embeddings for document chunks in ChromaDB (skipped if using existing index)"
   ]
  },
  {
   "cell_type": "code",
   "execution_count": 10,
   "id": "dc0b2f55",
   "metadata": {},
   "outputs": [
    {
     "name": "stdout",
     "output_type": "stream",
     "text": [
      "Skipping document indexing (using existing index)\n",
      "Ready to perform searches!\n",
      "CPU times: user 175 μs, sys: 476 μs, total: 651 μs\n",
      "Wall time: 4.62 ms\n"
     ]
    }
   ],
   "source": [
    "%%time\n",
    "# Only index documents if we need to recreate the index\n",
    "if vector_store.should_process_documents():\n",
    "    print(f\"Indexing {len(documents)} documents (this may take several minutes)...\")\n",
    "    vector_store.index_document(documents)  # Using subset for demo\n",
    "    print(\"Indexing completed!\")\n",
    "else:\n",
    "    print(\"Skipping document indexing (using existing index)\")\n",
    "    print(\"Ready to perform searches!\")"
   ]
  },
  {
   "cell_type": "markdown",
   "id": "c30b6a56",
   "metadata": {},
   "source": [
    "### Creating and Configuring the Agent\n",
    "Configure the AgenticRAG agent with search parameters and relevance settings."
   ]
  },
  {
   "cell_type": "code",
   "execution_count": 16,
   "id": "aa9adfdf",
   "metadata": {},
   "outputs": [],
   "source": [
    "\n",
    "config = AgentConfig(\n",
    "        collection_filter='pcd',\n",
    "        relevance_cutoff=8,\n",
    "        search_k=10,\n",
    "        max_evidence_pieces=5,\n",
    "        max_search_attempts=3\n",
    "    )\n",
    "    \n",
    "    # Initialize agentic RAG\n",
    "agentic_rag = AgenticRAG(vector_store=vector_store,config=config)\n",
    "\n",
    " \n",
    "async def ask(config:AgentConfig,agent:AgenticRAG,question:str):\n",
    "\n",
    "    # Ask question\n",
    "    #question = \"Causes of sleep disorder\"\n",
    "    print(f\"Question: {question}\\n\")\n",
    "    answer = await agentic_rag.ask_question(question, max_turns=10)\n",
    "\n",
    "    return answer\n"
   ]
  },
  {
   "cell_type": "markdown",
   "id": "d3bbfe03",
   "metadata": {},
   "source": [
    "### Asking questions\n",
    "Demonstrate the agent answering a complex question about diabetes prevention in rural adolescents."
   ]
  },
  {
   "cell_type": "code",
   "execution_count": 19,
   "id": "25c5a189",
   "metadata": {},
   "outputs": [
    {
     "name": "stdout",
     "output_type": "stream",
     "text": [
      "Question: What are the most common methods used in diabetes prevention to support adolescents in rural areas in the US?\n",
      "\n",
      "🟢 [Search] Starting paper search for question:common methods in diabetes prevention for adolescents in rural areas in the US\n",
      "🟢 [Search] Paper search returned 10 passages from papers\n",
      "🟢 [Status] Paper Count=10 | Relevant Papers=0 Current Evidence=0\n",
      "🟢 [Gather] Gathering evidence for question: common methods in diabetes prevention for adolescents in rural areas in the US\n",
      "🟢 [Gather] Finished gathering evidence for question: common methods in diabetes prevention for adolescents in rural areas in the US\n",
      "{'Paper': 10, 'Relevant': 4, 'Evidence': 4}\n",
      "🟢 [Gather] Gathering evidence for question: methods for preventing diabetes in rural adolescents in the US\n",
      "🟢 [Gather] Finished gathering evidence for question: methods for preventing diabetes in rural adolescents in the US\n",
      "{'Paper': 10, 'Relevant': 10, 'Evidence': 10}\n"
     ]
    },
    {
     "name": "stderr",
     "output_type": "stream",
     "text": [
      "/var/folders/6q/63lm7tyj16q5wftrhvcn_77w0000gn/T/ipykernel_85807/43910842.py:2: RuntimeWarning: coroutine 'ask' was never awaited\n",
      "  answer = await ask(config=config,agent = agentic_rag, question=question)\n",
      "RuntimeWarning: Enable tracemalloc to get the object allocation traceback\n"
     ]
    }
   ],
   "source": [
    "question = \"What are the most common methods used in diabetes prevention to support adolescents in rural areas in the US?\"\n",
    "answer = await ask(config=config,agent = agentic_rag, question=question)"
   ]
  },
  {
   "cell_type": "markdown",
   "id": "bb8ef0b1",
   "metadata": {},
   "source": [
    "### Display Final answer\n",
    "Show the final comprehensive answer generated by the agentic RAG system."
   ]
  },
  {
   "cell_type": "code",
   "execution_count": 20,
   "id": "ceb93bcf",
   "metadata": {},
   "outputs": [
    {
     "name": "stdout",
     "output_type": "stream",
     "text": [
      "\n",
      "Final Answer: Common methods for diabetes prevention among adolescents in rural areas of the US include:\n",
      "\n",
      "1. **Community-based Interventions:** Programs like 'Diabetes Today' engage local communities and leaders to raise awareness about diabetes and obesity, enhancing overall health education.\n",
      "\n",
      "2. **Peer-led Initiatives:** These initiatives effectively involve adolescents in screening activities, highlighting a significant prevalence of undiagnosed prediabetes, which necessitates targeted preventive measures.\n",
      "\n",
      "3. **School Programs:** Public schools serve as critical intervention sites to educate students on diabetes risk factors and promote healthy lifestyle choices.\n",
      "\n",
      "4. **Tailored Interventions:** Strategies specifically designed for low-income and racial/ethnic minority communities—who experience higher rates of diabetes—are crucial. These interventions should be culturally relevant and address socioeconomic factors.\n",
      "\n",
      "5. **Lifestyle Education:** Intensive interventions focusing on dietary changes and increased physical activity have shown efficacy in preventing type 2 diabetes among adolescents, particularly in rural settings.\n",
      "\n",
      "A multifaceted approach integrating community involvement, peer education, school initiatives, culturally appropriate strategies, and lifestyle modifications is essential for effective diabetes prevention in these populations.\n"
     ]
    }
   ],
   "source": [
    "print(f\"\\nFinal Answer: {answer}\")"
   ]
  }
 ],
 "metadata": {
  "kernelspec": {
   "display_name": "openai-agent-paperqa (3.10.6)",
   "language": "python",
   "name": "python3"
  },
  "language_info": {
   "codemirror_mode": {
    "name": "ipython",
    "version": 3
   },
   "file_extension": ".py",
   "mimetype": "text/x-python",
   "name": "python",
   "nbconvert_exporter": "python",
   "pygments_lexer": "ipython3",
   "version": "3.10.6"
  }
 },
 "nbformat": 4,
 "nbformat_minor": 5
}
